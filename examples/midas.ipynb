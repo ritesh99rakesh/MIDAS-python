{
 "cells": [
  {
   "cell_type": "markdown",
   "metadata": {},
   "source": [
    "# MIDAS example"
   ]
  },
  {
   "cell_type": "code",
   "execution_count": 1,
   "metadata": {},
   "outputs": [],
   "source": [
    "import sys\n",
    "sys.path.append('../')"
   ]
  },
  {
   "cell_type": "markdown",
   "metadata": {},
   "source": [
    "## Import packages"
   ]
  },
  {
   "cell_type": "code",
   "execution_count": 2,
   "metadata": {},
   "outputs": [],
   "source": [
    "from midas import midas\n",
    "from midas import modify_format, norm, add_data, graph_data\n",
    "import pandas as pd\n",
    "import numpy as np\n",
    "import matplotlib.pyplot as plt\n",
    "import csv"
   ]
  },
  {
   "cell_type": "markdown",
   "metadata": {},
   "source": [
    "## Format data"
   ]
  },
  {
   "cell_type": "code",
   "execution_count": 3,
   "metadata": {},
   "outputs": [],
   "source": [
    "# only use if data is not formatted in 3 columns in a .csv \n",
    "#filename = modify_format('botnet-capture-20110812-rbot.flow')\n",
    "\n",
    "# for manual entry if already properly formatted\n",
    "filename = 'botnet-capture-20110812-rbot'\n"
   ]
  },
  {
   "cell_type": "markdown",
   "metadata": {},
   "source": [
    "## Load data"
   ]
  },
  {
   "cell_type": "code",
   "execution_count": 4,
   "metadata": {},
   "outputs": [],
   "source": [
    "data = pd.read_csv(\n",
    "    f\"{filename}.csv\",\n",
    "    names=['src', 'dst', 'timestamp', 'label'],\n",
    ")"
   ]
  },
  {
   "cell_type": "code",
   "execution_count": 5,
   "metadata": {},
   "outputs": [
    {
     "data": {
      "text/html": [
       "<div>\n",
       "<style scoped>\n",
       "    .dataframe tbody tr th:only-of-type {\n",
       "        vertical-align: middle;\n",
       "    }\n",
       "\n",
       "    .dataframe tbody tr th {\n",
       "        vertical-align: top;\n",
       "    }\n",
       "\n",
       "    .dataframe thead th {\n",
       "        text-align: right;\n",
       "    }\n",
       "</style>\n",
       "<table border=\"1\" class=\"dataframe\">\n",
       "  <thead>\n",
       "    <tr style=\"text-align: right;\">\n",
       "      <th></th>\n",
       "      <th>src</th>\n",
       "      <th>dst</th>\n",
       "      <th>timestamp</th>\n",
       "      <th>label</th>\n",
       "    </tr>\n",
       "  </thead>\n",
       "  <tbody>\n",
       "    <tr>\n",
       "      <th>0</th>\n",
       "      <td>1</td>\n",
       "      <td>2</td>\n",
       "      <td>1</td>\n",
       "      <td>NaN</td>\n",
       "    </tr>\n",
       "    <tr>\n",
       "      <th>1</th>\n",
       "      <td>3</td>\n",
       "      <td>4</td>\n",
       "      <td>1</td>\n",
       "      <td>NaN</td>\n",
       "    </tr>\n",
       "    <tr>\n",
       "      <th>2</th>\n",
       "      <td>1</td>\n",
       "      <td>2</td>\n",
       "      <td>2</td>\n",
       "      <td>NaN</td>\n",
       "    </tr>\n",
       "    <tr>\n",
       "      <th>3</th>\n",
       "      <td>1</td>\n",
       "      <td>2</td>\n",
       "      <td>2</td>\n",
       "      <td>NaN</td>\n",
       "    </tr>\n",
       "    <tr>\n",
       "      <th>4</th>\n",
       "      <td>1</td>\n",
       "      <td>2</td>\n",
       "      <td>3</td>\n",
       "      <td>NaN</td>\n",
       "    </tr>\n",
       "    <tr>\n",
       "      <th>...</th>\n",
       "      <td>...</td>\n",
       "      <td>...</td>\n",
       "      <td>...</td>\n",
       "      <td>...</td>\n",
       "    </tr>\n",
       "    <tr>\n",
       "      <th>68193</th>\n",
       "      <td>2298</td>\n",
       "      <td>2</td>\n",
       "      <td>2843</td>\n",
       "      <td>NaN</td>\n",
       "    </tr>\n",
       "    <tr>\n",
       "      <th>68194</th>\n",
       "      <td>2298</td>\n",
       "      <td>2</td>\n",
       "      <td>2843</td>\n",
       "      <td>NaN</td>\n",
       "    </tr>\n",
       "    <tr>\n",
       "      <th>68195</th>\n",
       "      <td>2298</td>\n",
       "      <td>2</td>\n",
       "      <td>2843</td>\n",
       "      <td>NaN</td>\n",
       "    </tr>\n",
       "    <tr>\n",
       "      <th>68196</th>\n",
       "      <td>2298</td>\n",
       "      <td>2</td>\n",
       "      <td>2843</td>\n",
       "      <td>NaN</td>\n",
       "    </tr>\n",
       "    <tr>\n",
       "      <th>68197</th>\n",
       "      <td>2298</td>\n",
       "      <td>2</td>\n",
       "      <td>2844</td>\n",
       "      <td>NaN</td>\n",
       "    </tr>\n",
       "  </tbody>\n",
       "</table>\n",
       "<p>68198 rows × 4 columns</p>\n",
       "</div>"
      ],
      "text/plain": [
       "        src  dst  timestamp  label\n",
       "0         1    2          1    NaN\n",
       "1         3    4          1    NaN\n",
       "2         1    2          2    NaN\n",
       "3         1    2          2    NaN\n",
       "4         1    2          3    NaN\n",
       "...     ...  ...        ...    ...\n",
       "68193  2298    2       2843    NaN\n",
       "68194  2298    2       2843    NaN\n",
       "68195  2298    2       2843    NaN\n",
       "68196  2298    2       2843    NaN\n",
       "68197  2298    2       2844    NaN\n",
       "\n",
       "[68198 rows x 4 columns]"
      ]
     },
     "execution_count": 5,
     "metadata": {},
     "output_type": "execute_result"
    }
   ],
   "source": [
    "data"
   ]
  },
  {
   "cell_type": "markdown",
   "metadata": {},
   "source": [
    "## Find the anomaly score"
   ]
  },
  {
   "cell_type": "code",
   "execution_count": 6,
   "metadata": {
    "tags": []
   },
   "outputs": [
    {
     "name": "stderr",
     "output_type": "stream",
     "text": [
      "100%|██████████| 2844/2844 [00:05<00:00, 516.64it/s] \n"
     ]
    }
   ],
   "source": [
    "anomaly_score = midas(\n",
    "    data,\n",
    "    num_rows=2,\n",
    "    num_buckets=769,\n",
    ")"
   ]
  },
  {
   "cell_type": "code",
   "execution_count": 7,
   "metadata": {},
   "outputs": [
    {
     "data": {
      "text/plain": [
       "array([ 0.        ,  0.        ,  0.        , ...,  8.38552631,\n",
       "       17.05234372,  0.18029729])"
      ]
     },
     "execution_count": 7,
     "metadata": {},
     "output_type": "execute_result"
    }
   ],
   "source": [
    "np.array(anomaly_score)"
   ]
  },
  {
   "cell_type": "markdown",
   "metadata": {},
   "source": [
    "## Save the anomaly score for establishing score relationship and finding AUC"
   ]
  },
  {
   "cell_type": "code",
   "execution_count": 10,
   "metadata": {},
   "outputs": [
    {
     "data": {
      "image/png": "[encoded data removed]",
      "text/plain": [
       "<Figure size 432x288 with 1 Axes>"
      ]
     },
     "metadata": {
      "needs_background": "light"
     },
     "output_type": "display_data"
    }
   ],
   "source": [
    "np.savetxt(f\"{filename}_anomaly_scores.txt\", anomaly_score)\n",
    "norm(f\"{filename}_anomaly_scores.txt\", f\"normalized_{filename}_anomaly_scores.txt\") \n",
    "add_data(f\"{filename}.csv\", f\"normalized_{filename}_anomaly_scores.txt\", f\"{filename}_modified.csv\")\n",
    "graph_data(f\"{filename}_modified.csv\")"
   ]
  },
  {
   "cell_type": "markdown",
   "metadata": {},
   "source": [
    "## Find the AUC score"
   ]
  },
  {
   "cell_type": "code",
   "execution_count": 40,
   "metadata": {},
   "outputs": [],
   "source": [
    "from sklearn import metrics\n",
    "def auc(labelFile):\n",
    "    data = pd.read_csv(labelFile, names=[\"label\"])\n",
    "    # data = data.head()\n",
    "\n",
    "    methods = [\"midasPrat\"]\n",
    "    for i in range(len(methods)):\n",
    "        scores = pd.read_csv(\"anomaly_scores.txt\", header=None, squeeze=True)\n",
    "        fpr, tpr, _ = metrics.roc_curve(data.label, scores)\n",
    "        auc = metrics.roc_auc_score(data.label, scores)\n",
    "        print(\"TPR:\", tpr)\n",
    "        print(\"FPR:\", fpr)\n",
    "\n",
    "        print(\"AUC: \", auc)\n"
   ]
  },
  {
   "cell_type": "code",
   "execution_count": 41,
   "metadata": {
    "tags": []
   },
   "outputs": [
    {
     "name": "stdout",
     "output_type": "stream",
     "text": [
      "TPR: [0.00000000e+00 3.65335639e-07 1.07226010e-03 ... 9.99995616e-01\n",
      " 9.99995616e-01 1.00000000e+00]\n",
      "FPR: [0.         0.         0.         ... 0.9998184  0.99981895 1.        ]\n",
      "AUC:  0.9175562291257859\n"
     ]
    }
   ],
   "source": [
    "auc(\"https://raw.githubusercontent.com/Stream-AD/MIDAS/master/data/DARPA/darpa_ground_truth.csv\")"
   ]
  },
  {
   "cell_type": "code",
   "execution_count": null,
   "metadata": {},
   "outputs": [],
   "source": []
  }
 ],
 "metadata": {
  "kernelspec": {
   "display_name": "Python 3",
   "language": "python",
   "name": "python3"
  },
  "language_info": {
   "codemirror_mode": {
    "name": "ipython",
    "version": 3
   },
   "file_extension": ".py",
   "mimetype": "text/x-python",
   "name": "python",
   "nbconvert_exporter": "python",
   "pygments_lexer": "ipython3",
   "version": "3.8.8"
  }
 },
 "nbformat": 4,
 "nbformat_minor": 2
}
